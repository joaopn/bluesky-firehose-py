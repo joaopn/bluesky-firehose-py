{
 "cells": [
  {
   "cell_type": "code",
   "execution_count": 2,
   "metadata": {},
   "outputs": [],
   "source": [
    "from atproto import FirehoseSubscribeReposClient, parse_subscribe_repos_message\n",
    "\n",
    "\n"
   ]
  },
  {
   "cell_type": "code",
   "execution_count": 39,
   "metadata": {},
   "outputs": [],
   "source": [
    "import json\n",
    "from atproto import CAR\n",
    "from atproto_client.models.utils import get_or_create\n",
    "from atproto_client import models\n",
    "\n",
    "class JSONExtra(json.JSONEncoder):\n",
    "    \"\"\"raw objects sometimes contain CID() objects, which\n",
    "    seem to be references to something elsewhere in bluesky.\n",
    "    So, we 'serialise' these as a string representation,\n",
    "    which is a hack but whatevAAAAR\"\"\"\n",
    "    def default(self, obj):\n",
    "        try:\n",
    "            result = json.JSONEncoder.default(self, obj)\n",
    "            return result\n",
    "        except:\n",
    "            return repr(obj)\n",
    "\n",
    "\n",
    "client = FirehoseSubscribeReposClient()\n",
    "\n",
    "test_list = []\n",
    "test_op = []\n",
    "\n",
    "def on_message_handler(message):\n",
    "    global test_list\n",
    "    commit = parse_subscribe_repos_message(message)\n",
    "    if not isinstance(commit, models.ComAtprotoSyncSubscribeRepos.Commit):\n",
    "        return\n",
    "    car = CAR.from_bytes(commit.blocks)\n",
    "    for op in commit.ops:\n",
    "        if op.action in [\"create\"] and op.cid:\n",
    "            raw = car.blocks.get(op.cid)\n",
    "            cooked = get_or_create(raw, strict=False)\n",
    "            test_list.append(cooked)\n",
    "            test_op.append(op)\n",
    "            if len(test_list) > 5:\n",
    "                client.stop()\n",
    "   \n",
    "client.start(on_message_handler)"
   ]
  },
  {
   "cell_type": "code",
   "execution_count": 37,
   "metadata": {},
   "outputs": [
    {
     "data": {
      "text/plain": [
       "Record(created_at='2024-12-04T23:04:52.286Z', text='💙', embed=None, entities=None, facets=None, labels=None, langs=['en'], reply=ReplyRef(parent=Main(cid='bafyreigzuvcoqwrueo2idpc4kyarryhd74fmuwx7h7cmjzkroa2xq6kklq', uri='at://did:plc:oqqeaqhjkgyde2u7b6vmxfj4/app.bsky.feed.post/3lcjb6xb2x225', py_type='com.atproto.repo.strongRef'), root=Main(cid='bafyreifdiwofzzrrwhqr2yj7t24h5dby56n7uh3ih54tg5tgxs5sxraucu', uri='at://did:plc:bb34nndauqsl2rdtfkq5jtda/app.bsky.feed.post/3lcjaw7n7vc2z', py_type='com.atproto.repo.strongRef'), py_type='app.bsky.feed.post#replyRef'), tags=None, py_type='app.bsky.feed.post')"
      ]
     },
     "execution_count": 37,
     "metadata": {},
     "output_type": "execute_result"
    }
   ],
   "source": [
    "record = test_list[101]\n",
    "record"
   ]
  },
  {
   "cell_type": "code",
   "execution_count": 41,
   "metadata": {},
   "outputs": [],
   "source": [
    "op = test_op[1]"
   ]
  },
  {
   "cell_type": "code",
   "execution_count": 42,
   "metadata": {},
   "outputs": [
    {
     "data": {
      "text/plain": [
       "RepoOp(action='create', path='app.bsky.feed.post/3lcjbuoh6wc24', cid=CID(version=1, codec=113, hash=Multihash(code=18, size=32, digest=b'\\x84\\x04P\\xf8\\xf9^6\\xe7\\xec\\xe4\\xc7\\x97R\\xaf\\x0e\\x99\\xfe\\xf4j\\xc0\\xab]KZX\\xfca=t\\x9a\\x13\\x11'), _stringified_form='bafyreieearipr6k6g3t6zzghs5jk6duz732gvqfllvfvuwh4me6xjgqtce', _raw_byte_form=b'\\x01q\\x12 \\x84\\x04P\\xf8\\xf9^6\\xe7\\xec\\xe4\\xc7\\x97R\\xaf\\x0e\\x99\\xfe\\xf4j\\xc0\\xab]KZX\\xfca=t\\x9a\\x13\\x11'), py_type='com.atproto.sync.subscribeRepos#repoOp')"
      ]
     },
     "execution_count": 42,
     "metadata": {},
     "output_type": "execute_result"
    }
   ],
   "source": [
    "op"
   ]
  },
  {
   "cell_type": "code",
   "execution_count": 69,
   "metadata": {},
   "outputs": [
    {
     "name": "stdout",
     "output_type": "stream",
     "text": [
      "New post from did:plc:kldsvs34gh5z6zkp6w4vctwn\n",
      "Content: {'$type': 'app.bsky.feed.post', 'createdAt': '2024-12-04T23:54:40.184Z', 'embed': {'$type': 'app.bsky.embed.record', 'record': {'cid': 'bafyreihqpkfessajn53k6astzvl2mwdgldle3yvo36m4eomo7vfgj4fyzi', 'uri': 'at://did:plc:fqfrgk62jxqpo3muso24c7dn/app.bsky.feed.post/3lcjd7vmsyk2g'}}, 'langs': ['en'], 'text': 'Very much this 👇.'}\n",
      "---\n",
      "New post from did:plc:kth4rcicjamgikqq2ttbudha\n",
      "Content: {'$type': 'app.bsky.feed.post', 'createdAt': '2024-12-04T23:54:40.235Z', 'langs': ['pt'], 'text': 'atualizações: esses semestre sugou totalmente minhas energias, minha saúde mental e minha saúde física eu só tenho vontade de brigar com algumas pessoas (merecem levar um fecho), GRITAR e chorar (não tenho tempo)'}\n",
      "---\n",
      "New post from did:plc:f6vf6dp6xzzw3s5hdvuaraum\n",
      "Content: {'$type': 'app.bsky.feed.post', 'createdAt': '2024-12-04T23:54:40.035Z', 'langs': ['en'], 'text': 'Unhnh hnh body writing.....'}\n",
      "---\n",
      "New post from did:plc:jf5w6g3anh7av4erpqnm47nz\n",
      "Content: {'$type': 'app.bsky.feed.post', 'createdAt': '2024-12-04T23:54:39.806Z', 'embed': {'$type': 'app.bsky.embed.external', 'external': {'description': 'The defence minister said Russia was suffering 1,500 casualties a day in its conflict with Ukraine.', 'thumb': {'$type': 'blob', 'ref': {'$link': 'bafkreieqhlhlad5y4tobihldsoehjkrnz7yajom2agjgx6zbiyxs45sism'}, 'mimeType': 'image/jpeg', 'size': 408306}, 'title': 'Major war could destroy UK army in six months - minister Alistair Carns', 'uri': 'https://www.bbc.com/news/articles/c3rqlelypgxo'}}, 'facets': [{'features': [{'$type': 'app.bsky.richtext.facet#link', 'uri': 'https://www.bbc.com/news/articles/c3rqlelypgxo'}], 'index': {'byteEnd': 248, 'byteStart': 221}}], 'langs': ['en'], 'text': 'You are being lied to. It is not Russia that is suffering 1500 casualties per day. If these claims were even slightly true, the west would not be in the position it is today, they would be winning this war. They are not.\\nwww.bbc.com/news/article...'}\n",
      "---\n",
      "New post from did:plc:utrdz24mcbfcxor2bo2t6jsh\n",
      "Content: {'$type': 'app.bsky.feed.post', 'createdAt': '2024-12-04T23:54:37.731Z', 'langs': ['en'], 'reply': {'parent': {'cid': 'bafyreidlcfy44k26whjlsworl66kpp44ak4pezsf26tlz3kqzpmu322uau', 'uri': 'at://did:plc:hlit6kwnrjtwekvusmtacl4h/app.bsky.feed.post/3lcjbugzu722j'}, 'root': {'cid': 'bafyreidlcfy44k26whjlsworl66kpp44ak4pezsf26tlz3kqzpmu322uau', 'uri': 'at://did:plc:hlit6kwnrjtwekvusmtacl4h/app.bsky.feed.post/3lcjbugzu722j'}}, 'text': \"1. Don't believe everything you read on the internet\\n2. Don't feed the trolls, if people are mean to you, ignore them.\\n3. Stay as anonymous as you can, share the least about your personal life as you can. Never post pictures.\\n4. Be kind and be careful, you never know who's behind the screen.\"}\n",
      "---\n",
      "New post from did:plc:l42fhg7njzlry64bdyk5ldcw\n",
      "Content: {'$type': 'app.bsky.feed.post', 'createdAt': '2024-12-04T23:54:37.504Z', 'langs': ['en'], 'reply': {'parent': {'cid': 'bafyreie6noeildxt6lzopaa3skaxehlqozyrnrynqmcyegamxm6vlsd6ue', 'uri': 'at://did:plc:7upoypvlxudsiv4pzbi5jtwf/app.bsky.feed.post/3lcjdzi33uc2m'}, 'root': {'cid': 'bafyreie6noeildxt6lzopaa3skaxehlqozyrnrynqmcyegamxm6vlsd6ue', 'uri': 'at://did:plc:7upoypvlxudsiv4pzbi5jtwf/app.bsky.feed.post/3lcjdzi33uc2m'}}, 'text': 'Funny how that always seems to happen.'}\n",
      "---\n",
      "New post from did:plc:tyhubhyte6cbfuws4qjprud3\n",
      "Content: {'$type': 'app.bsky.feed.post', 'createdAt': '2024-12-04T23:54:41.033Z', 'langs': ['pt'], 'text': 'Comecei a ver Amor da minha vida e simplesmente amei que os protagonistas tem um perfil de review de sonhos\\n\\nEu super faria isso\\n\\nEu amo sonho\\n\\nHoje mesmo comi um'}\n",
      "---\n",
      "New post from did:plc:75iqofehoayvbnpes3zpmjir\n",
      "Content: {'$type': 'app.bsky.feed.post', 'createdAt': '2024-12-04T23:54:40.546Z', 'langs': ['en'], 'reply': {'parent': {'cid': 'bafyreifqn352vawbbrqikxmzimpjlrnrclcn3iavrfmu2crl4otkb7v4ou', 'uri': 'at://did:plc:nvfposmpmhegtyvhbs75s3pw/app.bsky.feed.post/3lciijk2r4s2c'}, 'root': {'cid': 'bafyreifqn352vawbbrqikxmzimpjlrnrclcn3iavrfmu2crl4otkb7v4ou', 'uri': 'at://did:plc:nvfposmpmhegtyvhbs75s3pw/app.bsky.feed.post/3lciijk2r4s2c'}}, 'text': 'I weep for what has happened to our country.'}\n",
      "---\n",
      "New post from did:plc:aa5wpvxhuwxxznbdy4rsay2e\n",
      "Content: {'$type': 'app.bsky.feed.post', 'createdAt': '2024-12-04T23:54:40.373Z', 'langs': ['en'], 'text': 'John Candy was only about 37 when he starred in Planes, Trains & Automobiles with Steve Martin, now 37 years ago. Still funny, but now all the missed flight people would be on apps trying to book hotel rooms and not in queues for pay phones.'}\n",
      "---\n",
      "New post from did:plc:ca75ybxcygtgjumreojmgfzl\n",
      "Content: {'$type': 'app.bsky.feed.post', 'createdAt': '2024-12-04T23:54:40.482Z', 'langs': ['en'], 'reply': {'parent': {'cid': 'bafyreictqs6tkpvbrufjb46pfhc55wvcr3ehifsg4upp5rpt6dwpbanue4', 'uri': 'at://did:plc:hvapkoddh5rdjyf45dqxp3be/app.bsky.feed.post/3lcjdsifjuk2m'}, 'root': {'cid': 'bafyreiel7sfudjf5jhy6lrn3hbmmfbtp7qa22or42tvzo2zkh2636rbv2a', 'uri': 'at://did:plc:ca75ybxcygtgjumreojmgfzl/app.bsky.feed.post/3lcjdoe2zxk2v'}}, 'text': 'Ummmmmm nooooo'}\n",
      "---\n",
      "New post from did:plc:x7nfsduh4b6irxxitusj2fsr\n",
      "Content: {'$type': 'app.bsky.feed.post', 'createdAt': '2024-12-04T23:54:40.520Z', 'langs': ['en'], 'reply': {'parent': {'cid': 'bafyreifll5o34hcj6pwoweqg37y2wgybfhdxhkkadyw6akbrtyc7bz47ny', 'uri': 'at://did:plc:dco7luebp2c4kwaukuatbg2s/app.bsky.feed.post/3lcjduwtytc2t'}, 'root': {'cid': 'bafyreiavxlgzqieyhtod7binpecsdflkupzpvqn5p2otjv3ybdkk5jx7yu', 'uri': 'at://did:plc:x7nfsduh4b6irxxitusj2fsr/app.bsky.feed.post/3lcjdr77bcc2w'}}, 'text': 'Thanks Tibor!'}\n",
      "---\n"
     ]
    }
   ],
   "source": [
    "## websocket approach\n",
    "\n",
    "import websockets\n",
    "import asyncio\n",
    "import json\n",
    "\n",
    "# fix asyncio.run() to run the function in notebook\n",
    "\n",
    "\n",
    "did_list = []\n",
    "commit_list = []\n",
    "async def connect_jetstream():\n",
    "    uri = \"wss://jetstream2.us-east.bsky.network/subscribe\"\n",
    "    params = {\n",
    "        \"wantedCollections\": [\"app.bsky.feed.post\"]  # Only get posts\n",
    "    }\n",
    "    \n",
    "    # Build URL with parameters\n",
    "    url = f\"{uri}?{'&'.join(f'wantedCollections={c}' for c in params['wantedCollections'])}\"\n",
    "    \n",
    "    counter = 0\n",
    "    \n",
    "    async with websockets.connect(url) as websocket:\n",
    "        while True:\n",
    "            try:\n",
    "                message = await websocket.recv()\n",
    "                data = json.loads(message)\n",
    "                \n",
    "                # Process different kinds of messages\n",
    "                if data[\"kind\"] == \"commit\":\n",
    "                    commit = data[\"commit\"]\n",
    "                    commit_list.append(commit)\n",
    "                    if commit[\"operation\"] == \"create\":\n",
    "                        print(f\"New post from {data['did']}\")\n",
    "                        print(f\"Content: {commit['record']}\")\n",
    "                        print(\"---\")\n",
    "                        counter += 1\n",
    "                        did_list.append(data['did'])\n",
    "                        if counter > 10:\n",
    "                            break\n",
    "                elif data[\"kind\"] == \"identity\":\n",
    "                    print(f\"Identity update for {data['identity']['did']}\")\n",
    "                    print(f\"New handle: {data['identity']['handle']}\")\n",
    "                    print(\"---\")\n",
    "                \n",
    "            except websockets.exceptions.ConnectionClosed:\n",
    "                print(\"Connection closed, attempting to reconnect...\")\n",
    "                break\n",
    "\n",
    "# Run the async function in a way that works in notebook\n",
    "await connect_jetstream()\n"
   ]
  },
  {
   "cell_type": "code",
   "execution_count": 55,
   "metadata": {},
   "outputs": [
    {
     "data": {
      "text/plain": [
       "Response(collections=['app.bsky.actor.profile', 'app.bsky.feed.like', 'app.bsky.feed.post', 'app.bsky.feed.repost', 'app.bsky.graph.follow'], did='did:plc:jje32a6o5kzc3vos5dm5bxn6', did_doc={'@context': ['https://www.w3.org/ns/did/v1', 'https://w3id.org/security/multikey/v1', 'https://w3id.org/security/suites/secp256k1-2019/v1'], 'id': 'did:plc:jje32a6o5kzc3vos5dm5bxn6', 'alsoKnownAs': ['at://antijunk.bsky.social'], 'verificationMethod': [{'id': 'did:plc:jje32a6o5kzc3vos5dm5bxn6#atproto', 'type': 'Multikey', 'controller': 'did:plc:jje32a6o5kzc3vos5dm5bxn6', 'publicKeyMultibase': 'zQ3shPMCyeu1HYAi85JVTmapfJhPjAoH57PgN2R9FYpcoWx4Y'}], 'service': [{'id': '#atproto_pds', 'type': 'AtprotoPersonalDataServer', 'serviceEndpoint': 'https://gomphus.us-west.host.bsky.network'}]}, handle='antijunk.bsky.social', handle_is_correct=True)"
      ]
     },
     "execution_count": 55,
     "metadata": {},
     "output_type": "execute_result"
    }
   ],
   "source": [
    "response = normal_client.com.atproto.repo.describe_repo({'repo': did_list[3]})\n",
    "response"
   ]
  },
  {
   "cell_type": "code",
   "execution_count": 57,
   "metadata": {},
   "outputs": [],
   "source": [
    "from atproto import DidDocument\n",
    "did_doc = DidDocument.from_dict(response.did_doc)"
   ]
  },
  {
   "cell_type": "code",
   "execution_count": 67,
   "metadata": {},
   "outputs": [
    {
     "ename": "LoginRequiredError",
     "evalue": "To perform this action, you must be logged in. Use the `login` method first.",
     "output_type": "error",
     "traceback": [
      "\u001b[1;31m---------------------------------------------------------------------------\u001b[0m",
      "\u001b[1;31mLoginRequiredError\u001b[0m                        Traceback (most recent call last)",
      "\u001b[1;32m~\\AppData\\Local\\Temp\\ipykernel_20968\\147898595.py\u001b[0m in \u001b[0;36m<module>\u001b[1;34m\u001b[0m\n\u001b[0;32m      1\u001b[0m \u001b[0mnormal_client\u001b[0m \u001b[1;33m=\u001b[0m \u001b[0mClient\u001b[0m\u001b[1;33m(\u001b[0m\u001b[1;33m)\u001b[0m\u001b[1;33m\u001b[0m\u001b[1;33m\u001b[0m\u001b[0m\n\u001b[0;32m      2\u001b[0m \u001b[1;33m\u001b[0m\u001b[0m\n\u001b[1;32m----> 3\u001b[1;33m \u001b[0mnormal_client\u001b[0m\u001b[1;33m.\u001b[0m\u001b[0mget_post\u001b[0m\u001b[1;33m(\u001b[0m\u001b[1;34m\"app.bsky.feed.post/3lcj5epci6c2n\"\u001b[0m\u001b[1;33m)\u001b[0m\u001b[1;33m\u001b[0m\u001b[1;33m\u001b[0m\u001b[0m\n\u001b[0m",
      "\u001b[1;32m~\\AppData\\Roaming\\Python\\Python39\\site-packages\\atproto_client\\client\\client.py\u001b[0m in \u001b[0;36mget_post\u001b[1;34m(self, post_rkey, profile_identify, cid)\u001b[0m\n\u001b[0;32m    345\u001b[0m \u001b[1;33m\u001b[0m\u001b[0m\n\u001b[0;32m    346\u001b[0m         \u001b[1;32mif\u001b[0m \u001b[1;32mnot\u001b[0m \u001b[0mrepo\u001b[0m\u001b[1;33m:\u001b[0m\u001b[1;33m\u001b[0m\u001b[1;33m\u001b[0m\u001b[0m\n\u001b[1;32m--> 347\u001b[1;33m             \u001b[1;32mraise\u001b[0m \u001b[0mLoginRequiredError\u001b[0m\u001b[1;33m\u001b[0m\u001b[1;33m\u001b[0m\u001b[0m\n\u001b[0m\u001b[0;32m    348\u001b[0m \u001b[1;33m\u001b[0m\u001b[0m\n\u001b[0;32m    349\u001b[0m         \u001b[1;32mreturn\u001b[0m \u001b[0mself\u001b[0m\u001b[1;33m.\u001b[0m\u001b[0mapp\u001b[0m\u001b[1;33m.\u001b[0m\u001b[0mbsky\u001b[0m\u001b[1;33m.\u001b[0m\u001b[0mfeed\u001b[0m\u001b[1;33m.\u001b[0m\u001b[0mpost\u001b[0m\u001b[1;33m.\u001b[0m\u001b[0mget\u001b[0m\u001b[1;33m(\u001b[0m\u001b[0mrepo\u001b[0m\u001b[1;33m,\u001b[0m \u001b[0mpost_rkey\u001b[0m\u001b[1;33m,\u001b[0m \u001b[0mcid\u001b[0m\u001b[1;33m)\u001b[0m\u001b[1;33m\u001b[0m\u001b[1;33m\u001b[0m\u001b[0m\n",
      "\u001b[1;31mLoginRequiredError\u001b[0m: To perform this action, you must be logged in. Use the `login` method first."
     ]
    }
   ],
   "source": [
    "normal_client = Client()\n",
    "\n",
    "normal_client.get_post(\"app.bsky.feed.post/3lcj5epci6c2n\")\n"
   ]
  },
  {
   "cell_type": "code",
   "execution_count": 73,
   "metadata": {},
   "outputs": [
    {
     "data": {
      "text/plain": [
       "{'rev': '3lcje2p3j7p2p',\n",
       " 'type': 'c',\n",
       " 'operation': 'create',\n",
       " 'collection': 'app.bsky.feed.post',\n",
       " 'rkey': '3lcje2lspks2n',\n",
       " 'record': {'$type': 'app.bsky.feed.post',\n",
       "  'createdAt': '2024-12-04T23:54:37.504Z',\n",
       "  'langs': ['en'],\n",
       "  'reply': {'parent': {'cid': 'bafyreie6noeildxt6lzopaa3skaxehlqozyrnrynqmcyegamxm6vlsd6ue',\n",
       "    'uri': 'at://did:plc:7upoypvlxudsiv4pzbi5jtwf/app.bsky.feed.post/3lcjdzi33uc2m'},\n",
       "   'root': {'cid': 'bafyreie6noeildxt6lzopaa3skaxehlqozyrnrynqmcyegamxm6vlsd6ue',\n",
       "    'uri': 'at://did:plc:7upoypvlxudsiv4pzbi5jtwf/app.bsky.feed.post/3lcjdzi33uc2m'}},\n",
       "  'text': 'Funny how that always seems to happen.'},\n",
       " 'cid': 'bafyreiguqtzbtnpee6xvyiit7sdzub4gz7c77rawqcxl64g32bmo7g626a'}"
      ]
     },
     "execution_count": 73,
     "metadata": {},
     "output_type": "execute_result"
    }
   ],
   "source": [
    "commit_list[5]"
   ]
  }
 ],
 "metadata": {
  "kernelspec": {
   "display_name": "base",
   "language": "python",
   "name": "python3"
  },
  "language_info": {
   "codemirror_mode": {
    "name": "ipython",
    "version": 3
   },
   "file_extension": ".py",
   "mimetype": "text/x-python",
   "name": "python",
   "nbconvert_exporter": "python",
   "pygments_lexer": "ipython3",
   "version": "3.9.13"
  }
 },
 "nbformat": 4,
 "nbformat_minor": 2
}
